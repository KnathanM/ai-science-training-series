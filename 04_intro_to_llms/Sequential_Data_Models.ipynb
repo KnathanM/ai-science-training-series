{
 "cells": [
  {
   "cell_type": "markdown",
   "metadata": {},
   "source": [
    "# Introduction To Sequential Data Modeling\n",
    "Author/Perpetrator: Carlo Graziani, including materials on LLMs by Varuni Sastri, and discussion/editorial work by Taylor Childers, Archit Vasan, Bethany Lusch, and Venkat Vishwanath (Argonne)\n",
    "\n",
    "Word embedding visualizations adapted from Kevin Gimpel (Toyota Technological Institute at Chicago) [Visualizing BERT](https://home.ttic.edu/~kgimpel/viz-bert/viz-bert.html).\n",
    "\n",
    "Some inspiration from the blog post [\"The Illustrated Transformer\"](https://jalammar.github.io/illustrated-transformer/) by Jay Alammar, highly recommended reading before next week's deeper dive into Transformer tech by Archit Vasan.  Another useful resource is [this ALCF tutorial](https://github.com/argonne-lcf/llm-workshop/blob/main/tutorials/01-llm-101/LLMs101.ipynb).\n",
    "\n",
    "Before you begin, make sure that you have your environment set up and your repo refreshed, as described in previous lessons, and reviewed in the accompanying 'Readme.md' file. Make sure that you select the kernel 'datascience/conda-2023-01-10' at the top-left of the Jupyter notebook."
   ]
  },
  {
   "cell_type": "markdown",
   "metadata": {},
   "source": [
    "## Modeling Sequential Data\n",
    "\n",
    "The modern terminology for the analysis of sequential data is \"large language modeling\" (LLM). This usage comes from Natural Language Processing (NLP), and is perhaps unfortunate---especially from the perspective of \"AI For Science,\" because, as I hope to clarify shortly, this kind of modeling is more generally useful than just for NLP.\n",
    "\n",
    "This session is dedicated to setting out the basics of sequential data modeling, and introducing (and, where possible motivating) a few key elements required for DL approaches to such modeling---principally transformers.\n",
    "\n",
    "## A Basic LLM Pipeline: Text Prediction\n",
    "\n",
    "Let's download and run a model from the HuggingFace model hub, to start getting a feeling for one very popular LLM activity: text prediction."
   ]
  },
  {
   "cell_type": "code",
   "execution_count": 1,
   "metadata": {},
   "outputs": [],
   "source": [
    "# Administrivia: modify this notebook so output text wraps.\n",
    "from IPython.display import HTML, display\n",
    "def set_css():\n",
    "  display(HTML('''\n",
    "  <style>\n",
    "    pre {\n",
    "      white-space: pre-wrap;\n",
    "    }\n",
    "  </style>\n",
    "  '''))\n",
    "get_ipython().events.register('pre_run_cell', set_css)\n",
    "\n",
    "# Set various proxies to download models and data\n",
    "# !export HTTP_PROXY=\"http://proxy-01.pub.alcf.anl.gov:3128\"\n",
    "# !export HTTPS_PROXY=\"http://proxy-01.pub.alcf.anl.gov:3128\"\n",
    "# !export http_proxy=\"http://proxy-01.pub.alcf.anl.gov:3128\"\n",
    "# !export https_proxy=\"http://proxy-01.pub.alcf.anl.gov:3128\"\n",
    "# !export ftp_proxy=\"http://proxy-01.pub.alcf.anl.gov:3128\" "
   ]
  },
  {
   "cell_type": "code",
   "execution_count": 2,
   "metadata": {},
   "outputs": [
    {
     "data": {
      "text/html": [
       "\n",
       "  <style>\n",
       "    pre {\n",
       "      white-space: pre-wrap;\n",
       "    }\n",
       "  </style>\n",
       "  "
      ],
      "text/plain": [
       "<IPython.core.display.HTML object>"
      ]
     },
     "metadata": {},
     "output_type": "display_data"
    },
    {
     "name": "stdout",
     "output_type": "stream",
     "text": [
      "Defaulting to user installation because normal site-packages is not writeable\n",
      "Requirement already satisfied: transformers in /soft/datascience/conda/2023-01-10/mconda3/lib/python3.10/site-packages (4.26.0)\n",
      "Requirement already satisfied: filelock in /soft/datascience/conda/2023-01-10/mconda3/lib/python3.10/site-packages (from transformers) (3.9.0)\n",
      "Requirement already satisfied: huggingface-hub<1.0,>=0.11.0 in /soft/datascience/conda/2023-01-10/mconda3/lib/python3.10/site-packages (from transformers) (0.12.0)\n",
      "Requirement already satisfied: numpy>=1.17 in /soft/datascience/conda/2023-01-10/mconda3/lib/python3.10/site-packages (from transformers) (1.23.5)\n",
      "Requirement already satisfied: packaging>=20.0 in /soft/datascience/conda/2023-01-10/mconda3/lib/python3.10/site-packages (from transformers) (21.3)\n",
      "Requirement already satisfied: pyyaml>=5.1 in /soft/datascience/conda/2023-01-10/mconda3/lib/python3.10/site-packages (from transformers) (6.0)\n",
      "Requirement already satisfied: regex!=2019.12.17 in /soft/datascience/conda/2023-01-10/mconda3/lib/python3.10/site-packages (from transformers) (2022.10.31)\n",
      "Requirement already satisfied: requests in /soft/datascience/conda/2023-01-10/mconda3/lib/python3.10/site-packages (from transformers) (2.28.1)\n",
      "Requirement already satisfied: tokenizers!=0.11.3,<0.14,>=0.11.1 in /soft/datascience/conda/2023-01-10/mconda3/lib/python3.10/site-packages (from transformers) (0.13.2)\n",
      "Requirement already satisfied: tqdm>=4.27 in /soft/datascience/conda/2023-01-10/mconda3/lib/python3.10/site-packages (from transformers) (4.64.1)\n",
      "Requirement already satisfied: typing-extensions>=3.7.4.3 in /soft/datascience/conda/2023-01-10/mconda3/lib/python3.10/site-packages (from huggingface-hub<1.0,>=0.11.0->transformers) (4.4.0)\n",
      "Requirement already satisfied: pyparsing!=3.0.5,>=2.0.2 in /soft/datascience/conda/2023-01-10/mconda3/lib/python3.10/site-packages (from packaging>=20.0->transformers) (3.0.9)\n",
      "Requirement already satisfied: charset-normalizer<3,>=2 in /soft/datascience/conda/2023-01-10/mconda3/lib/python3.10/site-packages (from requests->transformers) (2.0.4)\n",
      "Requirement already satisfied: idna<4,>=2.5 in /soft/datascience/conda/2023-01-10/mconda3/lib/python3.10/site-packages (from requests->transformers) (3.4)\n",
      "Requirement already satisfied: urllib3<1.27,>=1.21.1 in /soft/datascience/conda/2023-01-10/mconda3/lib/python3.10/site-packages (from requests->transformers) (1.26.13)\n",
      "Requirement already satisfied: certifi>=2017.4.17 in /soft/datascience/conda/2023-01-10/mconda3/lib/python3.10/site-packages (from requests->transformers) (2022.12.7)\n",
      "\n",
      "\u001b[1m[\u001b[0m\u001b[34;49mnotice\u001b[0m\u001b[1;39;49m]\u001b[0m\u001b[39;49m A new release of pip is available: \u001b[0m\u001b[31;49m23.2.1\u001b[0m\u001b[39;49m -> \u001b[0m\u001b[32;49m24.0\u001b[0m\n",
      "\u001b[1m[\u001b[0m\u001b[34;49mnotice\u001b[0m\u001b[1;39;49m]\u001b[0m\u001b[39;49m To update, run: \u001b[0m\u001b[32;49mpip install --upgrade pip\u001b[0m\n",
      "Note: you may need to restart the kernel to use updated packages.\n"
     ]
    }
   ],
   "source": [
    "%pip install transformers"
   ]
  },
  {
   "cell_type": "markdown",
   "metadata": {},
   "source": [
    "In what follows, we will ask an LLM based on the gpt2 model to complete the phrase \"I'm late because\""
   ]
  },
  {
   "cell_type": "code",
   "execution_count": 3,
   "metadata": {},
   "outputs": [
    {
     "data": {
      "text/html": [
       "\n",
       "  <style>\n",
       "    pre {\n",
       "      white-space: pre-wrap;\n",
       "    }\n",
       "  </style>\n",
       "  "
      ],
      "text/plain": [
       "<IPython.core.display.HTML object>"
      ]
     },
     "metadata": {},
     "output_type": "display_data"
    },
    {
     "name": "stderr",
     "output_type": "stream",
     "text": [
      "2024-03-05 22:20:36.377607: I tensorflow/core/platform/cpu_feature_guard.cc:193] This TensorFlow binary is optimized with oneAPI Deep Neural Network Library (oneDNN) to use the following CPU instructions in performance-critical operations:  SSE3 SSE4.1 SSE4.2 AVX AVX2 FMA\n",
      "To enable them in other operations, rebuild TensorFlow with the appropriate compiler flags.\n",
      "/soft/datascience/conda/2023-01-10/mconda3/lib/python3.10/site-packages/h5py/__init__.py:36: UserWarning: h5py is running against HDF5 1.12.2 when it was built against 1.12.1, this may cause problems\n",
      "  _warn((\"h5py is running against HDF5 {0} when it was built against {1}, \"\n",
      "/soft/datascience/conda/2023-01-10/mconda3/lib/python3.10/site-packages/transformers/generation/utils.py:1186: UserWarning: You have modified the pretrained model configuration to control generation. This is a deprecated strategy to control generation and will be removed soon, in a future version. Please use a generation configuration file (see https://huggingface.co/docs/transformers/main_classes/text_generation)\n",
      "  warnings.warn(\n",
      "Setting `pad_token_id` to `eos_token_id`:50256 for open-end generation.\n"
     ]
    },
    {
     "name": "stdout",
     "output_type": "stream",
     "text": [
      "How should I do good science?\n",
      "\n",
      "The above chart is a good guide to how to do science and to make your own science experiments. The questions on the right side of this chart are questions that you need an answer about with the right questions. The questions are not as complex as you realize and in some cases you've already answered them right when you're finished, so you might as well avoid doing them. If you have any specific challenges or questions please let me know and I will get\n",
      "******************\"\n"
     ]
    }
   ],
   "source": [
    "from transformers import pipeline\n",
    "\n",
    "# In this framework, setting  up a \"pipeline\" involves selecting a (pre-trained) model,\n",
    "# and a task---in this case, text generation \n",
    "generator = pipeline(\"text-generation\", model='gpt2')\n",
    "\n",
    "prompt = \"How should I do good science?\"\n",
    "\n",
    "# We request 5 completions of the prompt, of length 25 words\n",
    "res = generator(prompt, max_length=100, num_return_sequences=1)\n",
    "\n",
    "# What did we get?\n",
    "for each in res:\n",
    "    print(each['generated_text'])\n",
    "    print('******************\"')"
   ]
  },
  {
   "cell_type": "markdown",
   "metadata": {},
   "source": [
    "Huh. These seem pretty random.  What happens if we predict a single sentence, but extend its length?"
   ]
  },
  {
   "cell_type": "code",
   "execution_count": 16,
   "metadata": {},
   "outputs": [
    {
     "data": {
      "text/html": [
       "\n",
       "  <style>\n",
       "    pre {\n",
       "      white-space: pre-wrap;\n",
       "    }\n",
       "  </style>\n",
       "  "
      ],
      "text/plain": [
       "<IPython.core.display.HTML object>"
      ]
     },
     "metadata": {},
     "output_type": "display_data"
    },
    {
     "name": "stdout",
     "output_type": "stream",
     "text": [
      "Help on function pipeline in module transformers.pipelines:\n",
      "\n",
      "pipeline(task: str = None, model: Optional = None, config: Union[str, transformers.configuration_utils.PretrainedConfig, NoneType] = None, tokenizer: Union[str, transformers.tokenization_utils.PreTrainedTokenizer, transformers.tokenization_utils_fast.PreTrainedTokenizerFast, NoneType] = None, feature_extractor: Union[str, ForwardRef('SequenceFeatureExtractor'), NoneType] = None, framework: Optional[str] = None, revision: Optional[str] = None, use_fast: bool = True, use_auth_token: Union[str, bool, NoneType] = None, device: Union[int, str, ForwardRef('torch.device'), NoneType] = None, device_map=None, torch_dtype=None, trust_remote_code: Optional[bool] = None, model_kwargs: Dict[str, Any] = None, pipeline_class: Optional[Any] = None, **kwargs) -> transformers.pipelines.base.Pipeline\n",
      "    Utility factory method to build a [`Pipeline`].\n",
      "    \n",
      "    Pipelines are made of:\n",
      "    \n",
      "        - A [tokenizer](tokenizer) in charge of mapping raw textual input to token.\n",
      "        - A [model](model) to make predictions from the inputs.\n",
      "        - Some (optional) post processing for enhancing model's output.\n",
      "    \n",
      "    Args:\n",
      "        task (`str`):\n",
      "            The task defining which pipeline will be returned. Currently accepted tasks are:\n",
      "    \n",
      "            - `\"audio-classification\"`: will return a [`AudioClassificationPipeline`].\n",
      "            - `\"automatic-speech-recognition\"`: will return a [`AutomaticSpeechRecognitionPipeline`].\n",
      "            - `\"conversational\"`: will return a [`ConversationalPipeline`].\n",
      "            - `\"depth-estimation\"`: will return a [`DepthEstimationPipeline`].\n",
      "            - `\"document-question-answering\"`: will return a [`DocumentQuestionAnsweringPipeline`].\n",
      "            - `\"feature-extraction\"`: will return a [`FeatureExtractionPipeline`].\n",
      "            - `\"fill-mask\"`: will return a [`FillMaskPipeline`]:.\n",
      "            - `\"image-classification\"`: will return a [`ImageClassificationPipeline`].\n",
      "            - `\"image-segmentation\"`: will return a [`ImageSegmentationPipeline`].\n",
      "            - `\"image-to-text\"`: will return a [`ImageToTextPipeline`].\n",
      "            - `\"object-detection\"`: will return a [`ObjectDetectionPipeline`].\n",
      "            - `\"question-answering\"`: will return a [`QuestionAnsweringPipeline`].\n",
      "            - `\"summarization\"`: will return a [`SummarizationPipeline`].\n",
      "            - `\"table-question-answering\"`: will return a [`TableQuestionAnsweringPipeline`].\n",
      "            - `\"text2text-generation\"`: will return a [`Text2TextGenerationPipeline`].\n",
      "            - `\"text-classification\"` (alias `\"sentiment-analysis\"` available): will return a\n",
      "              [`TextClassificationPipeline`].\n",
      "            - `\"text-generation\"`: will return a [`TextGenerationPipeline`]:.\n",
      "            - `\"token-classification\"` (alias `\"ner\"` available): will return a [`TokenClassificationPipeline`].\n",
      "            - `\"translation\"`: will return a [`TranslationPipeline`].\n",
      "            - `\"translation_xx_to_yy\"`: will return a [`TranslationPipeline`].\n",
      "            - `\"video-classification\"`: will return a [`VideoClassificationPipeline`].\n",
      "            - `\"visual-question-answering\"`: will return a [`VisualQuestionAnsweringPipeline`].\n",
      "            - `\"zero-shot-classification\"`: will return a [`ZeroShotClassificationPipeline`].\n",
      "            - `\"zero-shot-image-classification\"`: will return a [`ZeroShotImageClassificationPipeline`].\n",
      "            - `\"zero-shot-object-detection\"`: will return a [`ZeroShotObjectDetectionPipeline`].\n",
      "    \n",
      "        model (`str` or [`PreTrainedModel`] or [`TFPreTrainedModel`], *optional*):\n",
      "            The model that will be used by the pipeline to make predictions. This can be a model identifier or an\n",
      "            actual instance of a pretrained model inheriting from [`PreTrainedModel`] (for PyTorch) or\n",
      "            [`TFPreTrainedModel`] (for TensorFlow).\n",
      "    \n",
      "            If not provided, the default for the `task` will be loaded.\n",
      "        config (`str` or [`PretrainedConfig`], *optional*):\n",
      "            The configuration that will be used by the pipeline to instantiate the model. This can be a model\n",
      "            identifier or an actual pretrained model configuration inheriting from [`PretrainedConfig`].\n",
      "    \n",
      "            If not provided, the default configuration file for the requested model will be used. That means that if\n",
      "            `model` is given, its default configuration will be used. However, if `model` is not supplied, this\n",
      "            `task`'s default model's config is used instead.\n",
      "        tokenizer (`str` or [`PreTrainedTokenizer`], *optional*):\n",
      "            The tokenizer that will be used by the pipeline to encode data for the model. This can be a model\n",
      "            identifier or an actual pretrained tokenizer inheriting from [`PreTrainedTokenizer`].\n",
      "    \n",
      "            If not provided, the default tokenizer for the given `model` will be loaded (if it is a string). If `model`\n",
      "            is not specified or not a string, then the default tokenizer for `config` is loaded (if it is a string).\n",
      "            However, if `config` is also not given or not a string, then the default tokenizer for the given `task`\n",
      "            will be loaded.\n",
      "        feature_extractor (`str` or [`PreTrainedFeatureExtractor`], *optional*):\n",
      "            The feature extractor that will be used by the pipeline to encode data for the model. This can be a model\n",
      "            identifier or an actual pretrained feature extractor inheriting from [`PreTrainedFeatureExtractor`].\n",
      "    \n",
      "            Feature extractors are used for non-NLP models, such as Speech or Vision models as well as multi-modal\n",
      "            models. Multi-modal models will also require a tokenizer to be passed.\n",
      "    \n",
      "            If not provided, the default feature extractor for the given `model` will be loaded (if it is a string). If\n",
      "            `model` is not specified or not a string, then the default feature extractor for `config` is loaded (if it\n",
      "            is a string). However, if `config` is also not given or not a string, then the default feature extractor\n",
      "            for the given `task` will be loaded.\n",
      "        framework (`str`, *optional*):\n",
      "            The framework to use, either `\"pt\"` for PyTorch or `\"tf\"` for TensorFlow. The specified framework must be\n",
      "            installed.\n",
      "    \n",
      "            If no framework is specified, will default to the one currently installed. If no framework is specified and\n",
      "            both frameworks are installed, will default to the framework of the `model`, or to PyTorch if no model is\n",
      "            provided.\n",
      "        revision (`str`, *optional*, defaults to `\"main\"`):\n",
      "            When passing a task name or a string model identifier: The specific model version to use. It can be a\n",
      "            branch name, a tag name, or a commit id, since we use a git-based system for storing models and other\n",
      "            artifacts on huggingface.co, so `revision` can be any identifier allowed by git.\n",
      "        use_fast (`bool`, *optional*, defaults to `True`):\n",
      "            Whether or not to use a Fast tokenizer if possible (a [`PreTrainedTokenizerFast`]).\n",
      "        use_auth_token (`str` or *bool*, *optional*):\n",
      "            The token to use as HTTP bearer authorization for remote files. If `True`, will use the token generated\n",
      "            when running `huggingface-cli login` (stored in `~/.huggingface`).\n",
      "        device (`int` or `str` or `torch.device`):\n",
      "            Defines the device (*e.g.*, `\"cpu\"`, `\"cuda:1\"`, `\"mps\"`, or a GPU ordinal rank like `1`) on which this\n",
      "            pipeline will be allocated.\n",
      "        device_map (`str` or `Dict[str, Union[int, str, torch.device]`, *optional*):\n",
      "            Sent directly as `model_kwargs` (just a simpler shortcut). When `accelerate` library is present, set\n",
      "            `device_map=\"auto\"` to compute the most optimized `device_map` automatically (see\n",
      "            [here](https://huggingface.co/docs/accelerate/main/en/package_reference/big_modeling#accelerate.cpu_offload)\n",
      "            for more information).\n",
      "    \n",
      "            <Tip warning={true}>\n",
      "    \n",
      "            Do not use `device_map` AND `device` at the same time as they will conflict\n",
      "    \n",
      "            </Tip>\n",
      "    \n",
      "        torch_dtype (`str` or `torch.dtype`, *optional*):\n",
      "            Sent directly as `model_kwargs` (just a simpler shortcut) to use the available precision for this model\n",
      "            (`torch.float16`, `torch.bfloat16`, ... or `\"auto\"`).\n",
      "        trust_remote_code (`bool`, *optional*, defaults to `False`):\n",
      "            Whether or not to allow for custom code defined on the Hub in their own modeling, configuration,\n",
      "            tokenization or even pipeline files. This option should only be set to `True` for repositories you trust\n",
      "            and in which you have read the code, as it will execute code present on the Hub on your local machine.\n",
      "        model_kwargs:\n",
      "            Additional dictionary of keyword arguments passed along to the model's `from_pretrained(...,\n",
      "            **model_kwargs)` function.\n",
      "        kwargs:\n",
      "            Additional keyword arguments passed along to the specific pipeline init (see the documentation for the\n",
      "            corresponding pipeline class for possible values).\n",
      "    \n",
      "    Returns:\n",
      "        [`Pipeline`]: A suitable pipeline for the task.\n",
      "    \n",
      "    Examples:\n",
      "    \n",
      "    ```python\n",
      "    >>> from transformers import pipeline, AutoModelForTokenClassification, AutoTokenizer\n",
      "    \n",
      "    >>> # Sentiment analysis pipeline\n",
      "    >>> analyzer = pipeline(\"sentiment-analysis\")\n",
      "    \n",
      "    >>> # Question answering pipeline, specifying the checkpoint identifier\n",
      "    >>> oracle = pipeline(\n",
      "    ...     \"question-answering\", model=\"distilbert-base-cased-distilled-squad\", tokenizer=\"bert-base-cased\"\n",
      "    ... )\n",
      "    \n",
      "    >>> # Named entity recognition pipeline, passing in a specific model and tokenizer\n",
      "    >>> model = AutoModelForTokenClassification.from_pretrained(\"dbmdz/bert-large-cased-finetuned-conll03-english\")\n",
      "    >>> tokenizer = AutoTokenizer.from_pretrained(\"bert-base-cased\")\n",
      "    >>> recognizer = pipeline(\"ner\", model=model, tokenizer=tokenizer)\n",
      "    ```\n",
      "\n"
     ]
    }
   ],
   "source": [
    "help(pipeline)"
   ]
  },
  {
   "cell_type": "code",
   "execution_count": 17,
   "metadata": {},
   "outputs": [
    {
     "data": {
      "text/html": [
       "\n",
       "  <style>\n",
       "    pre {\n",
       "      white-space: pre-wrap;\n",
       "    }\n",
       "  </style>\n",
       "  "
      ],
      "text/plain": [
       "<IPython.core.display.HTML object>"
      ]
     },
     "metadata": {},
     "output_type": "display_data"
    },
    {
     "name": "stderr",
     "output_type": "stream",
     "text": [
      "Setting `pad_token_id` to `eos_token_id`:50256 for open-end generation.\n"
     ]
    },
    {
     "name": "stdout",
     "output_type": "stream",
     "text": [
      "How should I do good science?\n",
      "\n",
      "The scientific question of whether or not a particular science really has any scientific validity is frequently answered by examining different people's interests. But this kind of examination of one's research generally can only reveal one thing: whether or not that idea is valid. This can be interpreted as suggesting that science may or may not really be all that important and therefore only makes things more difficult for scientists — the latter having had the power to make those ideas go away when they so\n",
      "******************\"\n"
     ]
    }
   ],
   "source": [
    "res = generator(prompt, max_length=100, num_return_sequences=1)\n",
    "print(res[0]['generated_text'])\n",
    "print('******************\"')"
   ]
  },
  {
   "cell_type": "markdown",
   "metadata": {},
   "source": [
    "There are some notable features here:\n",
    "\n",
    "1. Each sentence is different from the previous one. \n",
    "2. The sentences seem fairly disjointed, and go down weird rabbit holes after (or sometimes during) the first sentence.  \n",
    "3. The sentences always, or almost always, end in mid-sentence.  \n",
    "\n",
    "What explains this behavior?\n",
    "\n",
    "The answer to (1) is that this kind of text prediction (like ChatGPT's) is _generative_.  The text prompt is used to contruct a probability distribution over possible completions, and each generated sentence is a _sample_ from that distribution.\n",
    "\n",
    "The answer to (2) is: LLMs split up sentences into words or word fragments, called _tokens_. The way the samples are drawn is sequentially, one token at a time. Suppose the $k$-th token is denoted by the symbol $t_k$ ($t_k$ could be a word, a punctuation mark, a space, etc.). At stage $N$, the $N$-th token is drawn randomly from the distribution\n",
    "$$\n",
    "\\mathrm{Prob}(t_N | \\mathrm{prompt}, t_1, t_2,\\ldots,t_{N-1}),\n",
    "$$\n",
    "at stage $N+1$ the random draw is from\n",
    "$$\n",
    "\\mathrm{Prob}(t_{N+1} | \\mathrm{prompt}, t_1, t_2,\\ldots,t_{N-1},t_N),\n",
    "$$\n",
    "and so on.\n",
    "\n",
    "(If you are unfamiliar with this probability notation, know that an expression such as $\\mathrm{Prob}(X)$ should be read as \"the probability of occurrence of event $X$\", while the expression $\\mathrm{Prob}(X|Y)$ should be read as \"the probability of occurrence of the event $X$ _given_ that event $Y$ has been observed.\" This is called a _conditional probability_, and we often say \"Probability of $X$ conditioned on $Y$\" for $\\mathrm{Prob}(X|Y)$.  The observation of $Y$ changes the probability distribution governing the occurrence of $X$.  Here, the occurrence of the prompt, and of the first $N-1$ tokens, affects the probability distribution governing the $N$-th token $t_N$.)\n",
    "\n",
    "It follows from this fact that the sentences start growing apart at the first token $t_1$, and, depending on the model (in this case, gpt-2), are usually more strongly influenced by recent tokens than by older ones, so that $t_{90}$ is more strongly conditioned by it's immediate predecessors $t_{89}$, $t_{88}$, and $t_{87}$ than it is by the prompt, or by $t_1$, $t_2$, or $t_3$. We would say that this model's _attention_---it's ability to maintain context over sentences and paragraphs---is quite limited.\n",
    "\n",
    "The answer to (3) is also related to the generation mechanism.  With this style of generation, it is not possible to require that the text create exactly 100-token complete sentences. The best that one could do is to run the code so as to stop after the first (or second, or third) \"End of Sentence\" (EOS) token.\n"
   ]
  },
  {
   "cell_type": "markdown",
   "metadata": {},
   "source": [
    "  ## Where Do Deep Learning Model Architecture Choices Come From?\n",
    "\n",
    "  From the model development view, the elements of a DL architecture are usually the result of _a lot_ of trial-and-error by researchers.  However, at a deeper level, those choices are dictated by the nature of the data itself: some strategies that are successful for some types of data are nearly pointless for other types.\n",
    "\n",
    "  For example, last week Corey Adams lectured on the application of convolutional nets---network architectures based on local convolutional kernels---to image analysis. ConvNets were a remarkable discovery in the field, which arose through the desire to exploit _local 2-D spatial structure_ in images---edges, gradients, contrasts, large coherent features, small-scale details, and so on.  Convolutional kernels, together with pooling (and some other art) turn out to be exceptionally well-adapted to discovering such structure.\n",
    "\n",
    "  On the other hand, convolutions are not as useful if the data does not have that sort of spatial structure. It would be sort of senseless to reach for convnets to model, say, seasonal effects on product sales data across different manufacturing categories, or natural language sequences (although this has been tried).\n",
    "\n",
    "  So it makes sense to think about the nature of data when approaching this field. Generally speaking, there are two broad categories of data types that have dominated DL practice: vector data, and sequential data.  This course so far has trafficked in vector data, but with LLMs, we move into the domain of sequential data.\n",
    "\n",
    "  What distinguishes these two data types?\n",
    "\n",
    "### **Vector Data:** \n",
    "\n",
    "Fixed-length lists of real numbers, that can be visualized as living in a high-dimensional space, one dimension per list element.\n",
    "\n",
    "### Example: **Image Data**\n",
    "\n",
    "<p float=\"center\">\n",
    "<figure>\n",
    "\n",
    "  <img src=\"Figures/CIFAR-10.png\" width=\"500\" /> \n",
    "  \n",
    " </figure>\n",
    " \n",
    "</p>\n",
    "\n",
    "  **Typical queries and decisions:**\n",
    "  \n",
    "* Image classification\n",
    "* Inpainting---fill in blank regions\n",
    "* Segmentation---Identify elements in an image, e.g. cars, people, clouds...\n",
    "\n",
    "### Example: **Data from simulations**\n",
    "\n",
    "<p float=\"center\">\n",
    "<figure>\n",
    "\n",
    "  <img src=\"Figures/Simulations.png\" width=\"800\" /> \n",
    "  \n",
    "\n",
    " </figure>\n",
    " \n",
    "</p>\n",
    "\n",
    "  **Typical queries and decisions:**\n",
    "\n",
    "* Manifold finding/data reduction, i.e. how many dimensions are _really_ required to describe the data (this is basically what autoencoders do);\n",
    "* Emulation---train on simulation data, learn to produce similar output, or output at simulation settings not yet attempted, at much lower cost than the original simulators\n",
    "* Forecasting of weather, economics, pollution...\n",
    "\n",
    "### **Sequential Data:** \n",
    "\n",
    "_Sequences_ are variable-length lists, not necessarily real-valued, possibly containing gaps or requiring completion\n",
    "\n",
    "### Example: **Text Documents**\n",
    "\n",
    "<p float=\"center\">\n",
    "<figure>\n",
    "\n",
    "  <img src=\"Figures/Lorem.png\" width=\"500\" /> \n",
    "  \n",
    " </figure>\n",
    " \n",
    "</p>\n",
    "\n",
    "**Typical queries and decisions:**\n",
    "\n",
    "* Translation\n",
    "* Spell checking and correction\n",
    "* Text prediction and generation\n",
    "* Sentiment analysis\n",
    "\n",
    "### Example: **Genetic Sequences**\n",
    "\n",
    "<p float=\"center\">\n",
    "<figure>\n",
    "\n",
    "  <img src=\"Figures/RNA-codons.svg.png\" width=\"500\" /> \n",
    "  \n",
    " </figure>\n",
    " \n",
    "</p>\n",
    "\n",
    "**Typical queries and decisions:**\n",
    "\n",
    "* Prediction of likely variants/mutations from DNA variability\n",
    "* Realistic DNA sequence synthesis\n",
    "* Predicting gene expression\n",
    "\n",
    "### Example: **Protein Chains**\n",
    "\n",
    "<p float=\"center\">\n",
    "<figure>\n",
    "\n",
    "  <img src=\"Figures/Protein-Structure-06.png\" width=\"500\" /> \n",
    "  \n",
    " </figure>\n",
    " \n",
    "</p>\n",
    "\n",
    "**Typical queries and decisions:**\n",
    "\n",
    "* Predict folding structure\n",
    "* Predict chemical/binding properties\n",
    "\n",
    "\n",
    "\n",
    "Other examples of scientifically important  types of sequential data include chemical compounds (sequences of atoms) and weather states (sequences of spatially-resolved temperatures, pressures, humidities, etc.). \n",
    "\n",
    "It should be clear from the above that sequential data is much richer and more highly-structured, in general, than vector data."
   ]
  },
  {
   "cell_type": "markdown",
   "metadata": {},
   "source": [
    "\n",
    "Let's take a break.  In the meantime, go back to the LLM pipeline that we built at the beginning, and try seeing what kind of text prediction result you can obtain through \"prompt engineering\": try making longer, or more constraining prompts, and see if you can get more sensible results from the model."
   ]
  },
  {
   "cell_type": "markdown",
   "metadata": {},
   "source": [
    "## Elements of DL Sequence Modeling\n",
    "\n",
    "In 2017, the paper [Attention is All You Need](https://arxiv.org/abs/1706.03762) (Vaswani et al.) introduced the modern _transformer architecture_. Transformers were game-changers in the subject of sequential data modeling, but in important respects they built upon elements that were already in use in existing sequential data architectures, such as recurrent neural networks (RNNs), which they displaced.\n",
    "\n",
    "Let's look at two of those key elements that are needed by modern sequential models (AKA \"LLMs\"): tokenization, and word embedding. The third key element---attention---will be covered next week.\n",
    "\n",
    "### Tokenization\n",
    "\n",
    "Recall that unlike vector data, sequential data can have values that are essentially arbitrary---integers, real numbers, natural language words, DNA codons, and so on.  LLMs are trained and used in a manner that is largely agnostic of the data type.  This is possible because in a step preliminary to training, LLMs convert the data to _tokens_. Tokens are elements of a finite, discrete set---a _vocabulary_, with a certain fixed _vocabulary size_.  In the case of English natural language, the vocabulary may be made up of whole words, plus punctuation, spaces, etc. with a vocabulary size approaching 500,000; or it may be made up of sub-words, or word stems, or from other clever coding schemes, with reduced vocabulary size---as low as 30,000.\n",
    "\n",
    "There is clearly a tension represented by tokenization choice: On the one hand, there are great benefits to reducing the vocabulary size, because this can lead to substantial reductions in the number of parameters required by an LLM.  On the other hand, the actual distribution of sequence elements is more likely to be exposed to the model by more complex tokenizations, with larger vocabulary sizes.\n",
    "\n",
    "For example, take a phrase such as \"The chef added salt to the soup, because it required seasoning.\" The LLM needs to be able to parse such a sentence and discern, for example, that the article \"it\" refers to \"the soup\", and not to \"the chef\" or \"salt\" (how it does this is the subject of Attention, discussed next week).  It should be clear that such relationship are easier to tease out from a word tokenization (\"The\", \"chef\", \"added\"...) than from, say, a character-by-character tokenization (\"t\", \"h\", \"e\", \"c\"...). On the other hand, a character-by-character tokenization has a much smaller vocabulary size ($\\le 40$ including punctuation, spaces, etc.), whereas an English word-based vocabulary would have a vocabulary of about 500,000 (although the majority of these would be rarely-used words).\n",
    "\n",
    "Let's look at some tokenization examples:"
   ]
  },
  {
   "cell_type": "code",
   "execution_count": 10,
   "metadata": {},
   "outputs": [
    {
     "data": {
      "text/html": [
       "\n",
       "  <style>\n",
       "    pre {\n",
       "      white-space: pre-wrap;\n",
       "    }\n",
       "  </style>\n",
       "  "
      ],
      "text/plain": [
       "<IPython.core.display.HTML object>"
      ]
     },
     "metadata": {},
     "output_type": "display_data"
    }
   ],
   "source": [
    "from transformers import AutoTokenizer\n",
    "\n",
    "# A utility function to tokenize a sequence and print out some information about it.\n",
    "\n",
    "def tokenization_summary(tokenizer, sequence):\n",
    "\n",
    "    # get the vocabulary\n",
    "    vocab = tokenizer.vocab\n",
    "    # Number of entries to print\n",
    "    n = 10\n",
    "\n",
    "    # Print subset of the vocabulary\n",
    "    print(\"Subset of tokenizer.vocab:\")\n",
    "    for i, (token, index) in enumerate(tokenizer.vocab.items()):\n",
    "        print(f\"{token}: {index}\")\n",
    "        if i >= n - 1:\n",
    "            break\n",
    "\n",
    "    print(\"Vocab size of the tokenizer = \", len(vocab))\n",
    "    print(\"------------------------------------------\")\n",
    "\n",
    "    # .tokenize chunks the existing sequence into different tokens based on the rules and vocab of the tokenizer.\n",
    "    tokens = tokenizer.tokenize(sequence)\n",
    "    print(\"Tokens : \", tokens)\n",
    "    print(\"------------------------------------------\")\n",
    "\n",
    "    # .convert_tokens_to_ids or .encode or .tokenize converts the tokens to their corresponding numerical representation.\n",
    "    #  .convert_tokens_to_ids has a 1-1 mapping between tokens and numerical representation\n",
    "    # ids = tokenizer.convert_tokens_to_ids(tokens)\n",
    "    # print(\"encoded Ids: \", ids)\n",
    "\n",
    "    # .encode also adds additional information like Start of sequence tokens and End of sequene\n",
    "    print(\"tokenized sequence : \", tokenizer.encode(sequence))\n",
    "\n",
    "    # .tokenizer has additional information about attention_mask.\n",
    "    # encode = tokenizer(sequence)\n",
    "    # print(\"Encode sequence : \", encode)\n",
    "    # print(\"------------------------------------------\")\n",
    "\n",
    "    # .decode decodes the ids to raw text\n",
    "    ids = tokenizer.convert_tokens_to_ids(tokens)\n",
    "    decode = tokenizer.decode(ids)\n",
    "    print(\"Decode sequence : \", decode)\n"
   ]
  },
  {
   "cell_type": "code",
   "execution_count": 5,
   "metadata": {},
   "outputs": [
    {
     "data": {
      "text/html": [
       "\n",
       "  <style>\n",
       "    pre {\n",
       "      white-space: pre-wrap;\n",
       "    }\n",
       "  </style>\n",
       "  "
      ],
      "text/plain": [
       "<IPython.core.display.HTML object>"
      ]
     },
     "metadata": {},
     "output_type": "display_data"
    }
   ],
   "source": [
    "tokenizer_1  =  AutoTokenizer.from_pretrained(\"gpt2\") # GPT-2 uses \"Byte-Pair Encoding (BPE)\"\n",
    "\n",
    "sequence = \"Counselor, please adjust your Zoom filter to appear as a human, rather than as a cat\""
   ]
  },
  {
   "cell_type": "code",
   "execution_count": 17,
   "metadata": {},
   "outputs": [
    {
     "data": {
      "text/html": [
       "\n",
       "  <style>\n",
       "    pre {\n",
       "      white-space: pre-wrap;\n",
       "    }\n",
       "  </style>\n",
       "  "
      ],
      "text/plain": [
       "<IPython.core.display.HTML object>"
      ]
     },
     "metadata": {},
     "output_type": "display_data"
    },
    {
     "data": {
      "text/plain": [
       "[77, 6696, 1816, 284, 262, 3650]"
      ]
     },
     "execution_count": 17,
     "metadata": {},
     "output_type": "execute_result"
    }
   ],
   "source": [
    "tokenizer_1.encode(\"nathan went to the store\")"
   ]
  },
  {
   "cell_type": "code",
   "execution_count": 30,
   "metadata": {},
   "outputs": [
    {
     "data": {
      "text/html": [
       "\n",
       "  <style>\n",
       "    pre {\n",
       "      white-space: pre-wrap;\n",
       "    }\n",
       "  </style>\n",
       "  "
      ],
      "text/plain": [
       "<IPython.core.display.HTML object>"
      ]
     },
     "metadata": {},
     "output_type": "display_data"
    },
    {
     "data": {
      "text/plain": [
       "' inch- Bender mic Sen- Here'"
      ]
     },
     "execution_count": 30,
     "metadata": {},
     "output_type": "execute_result"
    }
   ],
   "source": [
    "tokenizer_1.decode([11111, 12, 34535, 12314, 2311, 12, 3423])"
   ]
  },
  {
   "cell_type": "code",
   "execution_count": 27,
   "metadata": {
    "collapsed": true,
    "jupyter": {
     "outputs_hidden": true
    },
    "tags": []
   },
   "outputs": [
    {
     "data": {
      "text/html": [
       "\n",
       "  <style>\n",
       "    pre {\n",
       "      white-space: pre-wrap;\n",
       "    }\n",
       "  </style>\n",
       "  "
      ],
      "text/plain": [
       "<IPython.core.display.HTML object>"
      ]
     },
     "metadata": {},
     "output_type": "display_data"
    },
    {
     "data": {
      "text/plain": [
       "['SPECIAL_TOKENS_ATTRIBUTES',\n",
       " '__annotations__',\n",
       " '__call__',\n",
       " '__class__',\n",
       " '__delattr__',\n",
       " '__dict__',\n",
       " '__dir__',\n",
       " '__doc__',\n",
       " '__eq__',\n",
       " '__format__',\n",
       " '__ge__',\n",
       " '__getattribute__',\n",
       " '__gt__',\n",
       " '__hash__',\n",
       " '__init__',\n",
       " '__init_subclass__',\n",
       " '__le__',\n",
       " '__len__',\n",
       " '__lt__',\n",
       " '__module__',\n",
       " '__ne__',\n",
       " '__new__',\n",
       " '__reduce__',\n",
       " '__reduce_ex__',\n",
       " '__repr__',\n",
       " '__setattr__',\n",
       " '__sizeof__',\n",
       " '__str__',\n",
       " '__subclasshook__',\n",
       " '__weakref__',\n",
       " '_add_tokens',\n",
       " '_additional_special_tokens',\n",
       " '_auto_class',\n",
       " '_batch_encode_plus',\n",
       " '_bos_token',\n",
       " '_build_conversation_input_ids',\n",
       " '_call_one',\n",
       " '_cls_token',\n",
       " '_convert_encoding',\n",
       " '_convert_id_to_token',\n",
       " '_convert_token_to_id_with_added_voc',\n",
       " '_create_repo',\n",
       " '_decode',\n",
       " '_decode_use_source_tokenizer',\n",
       " '_encode_plus',\n",
       " '_eos_token',\n",
       " '_eventual_warn_about_too_long_sequence',\n",
       " '_eventually_correct_t5_max_length',\n",
       " '_from_pretrained',\n",
       " '_get_files_timestamps',\n",
       " '_get_padding_truncation_strategies',\n",
       " '_in_target_context_manager',\n",
       " '_mask_token',\n",
       " '_pad',\n",
       " '_pad_token',\n",
       " '_pad_token_type_id',\n",
       " '_processor_class',\n",
       " '_save_pretrained',\n",
       " '_sep_token',\n",
       " '_set_processor_class',\n",
       " '_switch_to_input_mode',\n",
       " '_switch_to_target_mode',\n",
       " '_tokenizer',\n",
       " '_unk_token',\n",
       " '_upload_modified_files',\n",
       " 'add_bos_token',\n",
       " 'add_prefix_space',\n",
       " 'add_special_tokens',\n",
       " 'add_tokens',\n",
       " 'additional_special_tokens',\n",
       " 'additional_special_tokens_ids',\n",
       " 'all_special_ids',\n",
       " 'all_special_tokens',\n",
       " 'all_special_tokens_extended',\n",
       " 'as_target_tokenizer',\n",
       " 'backend_tokenizer',\n",
       " 'batch_decode',\n",
       " 'batch_encode_plus',\n",
       " 'bos_token',\n",
       " 'bos_token_id',\n",
       " 'build_inputs_with_special_tokens',\n",
       " 'can_save_slow_tokenizer',\n",
       " 'clean_up_tokenization',\n",
       " 'cls_token',\n",
       " 'cls_token_id',\n",
       " 'convert_ids_to_tokens',\n",
       " 'convert_tokens_to_ids',\n",
       " 'convert_tokens_to_string',\n",
       " 'create_token_type_ids_from_sequences',\n",
       " 'decode',\n",
       " 'decoder',\n",
       " 'deprecation_warnings',\n",
       " 'encode',\n",
       " 'encode_plus',\n",
       " 'eos_token',\n",
       " 'eos_token_id',\n",
       " 'from_pretrained',\n",
       " 'get_added_vocab',\n",
       " 'get_special_tokens_mask',\n",
       " 'get_vocab',\n",
       " 'init_inputs',\n",
       " 'init_kwargs',\n",
       " 'is_fast',\n",
       " 'mask_token',\n",
       " 'mask_token_id',\n",
       " 'max_len_sentences_pair',\n",
       " 'max_len_single_sentence',\n",
       " 'max_model_input_sizes',\n",
       " 'model_input_names',\n",
       " 'model_max_length',\n",
       " 'name_or_path',\n",
       " 'num_special_tokens_to_add',\n",
       " 'pad',\n",
       " 'pad_token',\n",
       " 'pad_token_id',\n",
       " 'pad_token_type_id',\n",
       " 'padding_side',\n",
       " 'prepare_for_model',\n",
       " 'prepare_seq2seq_batch',\n",
       " 'pretrained_init_configuration',\n",
       " 'pretrained_vocab_files_map',\n",
       " 'push_to_hub',\n",
       " 'register_for_auto_class',\n",
       " 'sanitize_special_tokens',\n",
       " 'save_pretrained',\n",
       " 'save_vocabulary',\n",
       " 'sep_token',\n",
       " 'sep_token_id',\n",
       " 'set_truncation_and_padding',\n",
       " 'slow_tokenizer_class',\n",
       " 'special_tokens_map',\n",
       " 'special_tokens_map_extended',\n",
       " 'tokenize',\n",
       " 'train_new_from_iterator',\n",
       " 'truncate_sequences',\n",
       " 'truncation_side',\n",
       " 'unk_token',\n",
       " 'unk_token_id',\n",
       " 'verbose',\n",
       " 'vocab',\n",
       " 'vocab_files_names',\n",
       " 'vocab_size']"
      ]
     },
     "execution_count": 27,
     "metadata": {},
     "output_type": "execute_result"
    }
   ],
   "source": [
    "dir(tokenizer_1)"
   ]
  },
  {
   "cell_type": "code",
   "execution_count": 11,
   "metadata": {},
   "outputs": [
    {
     "data": {
      "text/html": [
       "\n",
       "  <style>\n",
       "    pre {\n",
       "      white-space: pre-wrap;\n",
       "    }\n",
       "  </style>\n",
       "  "
      ],
      "text/plain": [
       "<IPython.core.display.HTML object>"
      ]
     },
     "metadata": {},
     "output_type": "display_data"
    },
    {
     "name": "stdout",
     "output_type": "stream",
     "text": [
      "Subset of tokenizer.vocab:\n",
      "Ġdeveloping: 5922\n",
      "ĠGad: 20925\n",
      "102: 15377\n",
      "ocom: 42829\n",
      "Ġarguments: 7159\n",
      "iley: 9618\n",
      "arag: 29967\n",
      "=~: 31820\n",
      "ĠChristina: 33673\n",
      "Ġdug: 18735\n",
      "Vocab size of the tokenizer =  50257\n",
      "------------------------------------------\n",
      "Tokens :  ['Coun', 'sel', 'or', ',', 'Ġplease', 'Ġadjust', 'Ġyour', 'ĠZoom', 'Ġfilter', 'Ġto', 'Ġappear', 'Ġas', 'Ġa', 'Ġhuman', ',', 'Ġrather', 'Ġthan', 'Ġas', 'Ġa', 'Ġcat']\n",
      "------------------------------------------\n",
      "encoded Ids:  [31053, 741, 273, 11, 3387, 4532, 534, 40305, 8106, 284, 1656, 355, 257, 1692, 11, 2138, 621, 355, 257, 3797]\n",
      "tokenized sequence :  [31053, 741, 273, 11, 3387, 4532, 534, 40305, 8106, 284, 1656, 355, 257, 1692, 11, 2138, 621, 355, 257, 3797]\n",
      "Decode sequence :  Counselor, please adjust your Zoom filter to appear as a human, rather than as a cat\n"
     ]
    }
   ],
   "source": [
    "tokenization_summary(tokenizer_1, sequence)"
   ]
  },
  {
   "cell_type": "markdown",
   "metadata": {},
   "source": [
    "GPT-2 uses a so-called \"Byte-pair encoding\" (BPE), which can break up long words into  subwords (e.g. \"Coun\" \"sel \"lor\"). This allows for rare words (the majority of English vocabulary words) to be encoded in a smaller vocabulary (in this case, 50257 token IDs). This tokenization also incorporates initial whitespace before a word into the word for efficiency, so a word will be encoded differently whether it is at the beginning of the sentence (without space) or not. This is the reason for those odd-looking \"Ġ\" characters in the vocabulary.\n",
    "\n",
    "For a description of how BPE works, see [this article](https://huggingface.co/learn/nlp-course/en/chapter6/5).\n",
    "\n",
    "(Python tip: try typing \"help(tokenizer_1)\" for more information on what it's doing and how to use it).\n",
    "\n",
    "Let's look at a different tokenizer now:"
   ]
  },
  {
   "cell_type": "code",
   "execution_count": null,
   "metadata": {},
   "outputs": [],
   "source": [
    "tokenizer_2  =  AutoTokenizer.from_pretrained(\"bert-base-cased\") # BERT uses WordPiece encoding\n",
    "\n",
    "tokenization_summary(tokenizer_2, sequence)\n"
   ]
  },
  {
   "cell_type": "markdown",
   "metadata": {},
   "source": [
    "This model (part of the BERT family) uses WordPiece encoding.  This is another clever strategy (described [here](https://huggingface.co/learn/nlp-course/en/chapter6/6)) that reduces the vocabulary size to 28996, by starting with a character-level encoding, then training on a text corpus to find ways to efficiently merge some of these preliminary tokens into others representing longer strings of frequent occurrence.  Note that \"Counsel\" occurs frequently enough to rate its own token, and the algorithm builds \"counselor\" out of \"counsel\"+\"or\" (actually, \"##or\", where the \"##\" is a tag indicating that the token is a word piece). Similarly for \"Zoom\"=\"Zoo\" + \"#m\".\n",
    "\n",
    "Note that one could obtain a simpler tokenizer by using elementary Python 'string' operations to split sentences on words, punctuation, and the like, obtaining _very_ large vocabulary sizes, but not requiring advance training on corpuses of text as WordPiece and BPE do. In NLP, however, such strategies are considered naive, because very large vocabulary sizes produce cripplingly large LLM parameter sizes.  It is better to train a tokenizer on actual data.\n",
    "\n",
    "Note also: there is, to this day, no approach to judging what is an _optimal_ tokenization---one that best preserves distributional information contained in the sequence without an exploding vocabulary size.\n",
    "\n",
    "### Token Embedding\n",
    "\n",
    "The strategy of choice for learning language structure from tokenized text is to find a clever way to map each token into a moderate-dimension vector space, adjusting the mapping so that \n",
    "\n",
    "1. Similar, or associated tokens take up residence nearby each other, and\n",
    "2. Different regions of the space correspond to different position in the sequence.\n",
    "\n",
    "Such a mapping from token ID to a point in a vector space is called a _token embedding_. The dimension of the vector space is often high (e.g. 1024-dimensional), but much smaller than the vocabulary size (30,000--500,000). The choice of this dimension is made based on a compromise between expressiveness and computational cost. Various approaches have been attempted for generating such embeddings, including static algorithms that operate on a corpus of tokenized data as preprocessors for NLP tasks.  Transformers, however, adjust their embeddings during training.\n",
    "\n",
    "The point of an embedding is to allow computational NLP architectures to operate on familiar, and easily tensorizable data entities---vectors---which can easily be subjected to the usual sorts of DL operations.\n",
    "\n",
    "Let's take a look at a visualization of the token embedding associated with a pre-trained BERT transformer model. The following is adapted from [Kevin Gimpel's visualization](https://home.ttic.edu/~kgimpel/viz-bert/viz-bert.html)."
   ]
  },
  {
   "cell_type": "code",
   "execution_count": 3,
   "metadata": {},
   "outputs": [
    {
     "data": {
      "text/html": [
       "\n",
       "  <style>\n",
       "    pre {\n",
       "      white-space: pre-wrap;\n",
       "    }\n",
       "  </style>\n",
       "  "
      ],
      "text/plain": [
       "<IPython.core.display.HTML object>"
      ]
     },
     "metadata": {},
     "output_type": "display_data"
    },
    {
     "name": "stderr",
     "output_type": "stream",
     "text": [
      "2024-03-06 01:35:32.843087: I tensorflow/core/platform/cpu_feature_guard.cc:193] This TensorFlow binary is optimized with oneAPI Deep Neural Network Library (oneDNN) to use the following CPU instructions in performance-critical operations:  SSE3 SSE4.1 SSE4.2 AVX AVX2 FMA\n",
      "To enable them in other operations, rebuild TensorFlow with the appropriate compiler flags.\n",
      "/soft/datascience/conda/2023-01-10/mconda3/lib/python3.10/site-packages/h5py/__init__.py:36: UserWarning: h5py is running against HDF5 1.12.2 when it was built against 1.12.1, this may cause problems\n",
      "  _warn((\"h5py is running against HDF5 {0} when it was built against {1}, \"\n",
      "Some weights of the model checkpoint at bert-large-uncased-whole-word-masking were not used when initializing BertModel: ['cls.predictions.transform.LayerNorm.bias', 'cls.predictions.bias', 'cls.seq_relationship.weight', 'cls.predictions.transform.dense.weight', 'cls.predictions.transform.LayerNorm.weight', 'cls.predictions.transform.dense.bias', 'cls.seq_relationship.bias']\n",
      "- This IS expected if you are initializing BertModel from the checkpoint of a model trained on another task or with another architecture (e.g. initializing a BertForSequenceClassification model from a BertForPreTraining model).\n",
      "- This IS NOT expected if you are initializing BertModel from the checkpoint of a model that you expect to be exactly identical (initializing a BertForSequenceClassification model from a BertForSequenceClassification model).\n"
     ]
    },
    {
     "name": "stdout",
     "output_type": "stream",
     "text": [
      "The vocabulary size is:  30522\n"
     ]
    }
   ],
   "source": [
    "%matplotlib inline\n",
    "import torch\n",
    "import numpy as np\n",
    "import matplotlib.pyplot as plt\n",
    "from sklearn.manifold import TSNE\n",
    "from transformers import BertTokenizer, BertModel, BertForMaskedLM\n",
    "import sys\n",
    "np.set_printoptions(threshold=sys.maxsize)\n",
    "plt.rcParams['figure.figsize'] = [100, 60]\n",
    "\n",
    "# Load BERT.\n",
    "model = BertModel.from_pretrained('bert-large-uncased-whole-word-masking')\n",
    "# Set the model to eval mode.\n",
    "model.eval()\n",
    "# This notebook assumes CPU execution. If you want to use GPUs, put the model on cuda and modify subsequent code blocks.\n",
    "#model.to('cuda')\n",
    "# Load tokenizer.\n",
    "tokenizer = BertTokenizer.from_pretrained('bert-large-uncased-whole-word-masking')\n",
    "\n",
    "# Save the BERT vocabulary to a file -- by default it will name this file \"vocab.txt\".\n",
    "tokenizer.save_vocabulary(save_directory='.')\n",
    "\n",
    "print(\"The vocabulary size is: \", model.config.vocab_size) # Size of the vocabulary\n"
   ]
  },
  {
   "cell_type": "code",
   "execution_count": 4,
   "metadata": {},
   "outputs": [
    {
     "data": {
      "text/html": [
       "\n",
       "  <style>\n",
       "    pre {\n",
       "      white-space: pre-wrap;\n",
       "    }\n",
       "  </style>\n",
       "  "
      ],
      "text/plain": [
       "<IPython.core.display.HTML object>"
      ]
     },
     "metadata": {},
     "output_type": "display_data"
    },
    {
     "name": "stdout",
     "output_type": "stream",
     "text": [
      "(30522, 1024)\n"
     ]
    }
   ],
   "source": [
    "# Get BERT's vocabulary embeddings.\n",
    "wordembs = model.get_input_embeddings()\n",
    "\n",
    "# Convert the vocabulary embeddings to numpy.\n",
    "allinds = np.arange(0,model.config.vocab_size,1)\n",
    "inputinds = torch.LongTensor(allinds)\n",
    "bertwordembs = wordembs(inputinds).detach().numpy()\n",
    "print(bertwordembs.shape)\n"
   ]
  },
  {
   "cell_type": "code",
   "execution_count": 5,
   "metadata": {},
   "outputs": [
    {
     "data": {
      "text/html": [
       "\n",
       "  <style>\n",
       "    pre {\n",
       "      white-space: pre-wrap;\n",
       "    }\n",
       "  </style>\n",
       "  "
      ],
      "text/plain": [
       "<IPython.core.display.HTML object>"
      ]
     },
     "metadata": {},
     "output_type": "display_data"
    },
    {
     "data": {
      "text/plain": [
       "array([[-0.02419428, -0.00759981,  0.00445366],\n",
       "       [-0.02851291, -0.05074956, -0.01274622],\n",
       "       [-0.01905373, -0.05421471, -0.00300475]], dtype=float32)"
      ]
     },
     "execution_count": 5,
     "metadata": {},
     "output_type": "execute_result"
    }
   ],
   "source": [
    "bertwordembs[0:3,0:3]"
   ]
  },
  {
   "cell_type": "markdown",
   "metadata": {},
   "source": [
    "So the array bertwordembs contains 30522 vectors of size 1024, the latter being the dimension of the embedding space.\n",
    "\n",
    "The visualization of this data will be carried out by means of a projection to 2 dimensions by an algorithm called \"t-SNE\" (\"t-distributed stochastic neighbor embedding\"), which attempts to keep \"similar\" (in the high-dimensional space) points together, while spreading apart in the 2-dimensional projection points that are distant from each other in the high-dimensional space."
   ]
  },
  {
   "cell_type": "code",
   "execution_count": 6,
   "metadata": {},
   "outputs": [
    {
     "data": {
      "text/html": [
       "\n",
       "  <style>\n",
       "    pre {\n",
       "      white-space: pre-wrap;\n",
       "    }\n",
       "  </style>\n",
       "  "
      ],
      "text/plain": [
       "<IPython.core.display.HTML object>"
      ]
     },
     "metadata": {},
     "output_type": "display_data"
    },
    {
     "name": "stdout",
     "output_type": "stream",
     "text": [
      "4000\n",
      "10000\n"
     ]
    }
   ],
   "source": [
    "# Read in the vocabulary\n",
    "filename = \"vocab.txt\"\n",
    "with open(filename,'r') as f:\n",
    "    bertwords = np.array([])\n",
    "    for line in f:\n",
    "        bertwords = np.append(bertwords, line.rstrip())\n",
    "\n",
    "# Determine vocabulary to use for t-SNE/visualization. The indices are hard-coded based partially on inspection:\n",
    "bert_char_indices_to_use = np.arange(999, 1063, 1)\n",
    "bert_voc_indices_to_plot = np.append(bert_char_indices_to_use, np.arange(1996, 5932, 1))\n",
    "bert_voc_indices_to_use = np.append(bert_char_indices_to_use, np.arange(1996, 11932, 1))\n",
    "\n",
    "bert_voc_indices_to_use_tensor = torch.LongTensor(bert_voc_indices_to_use)\n",
    "bert_word_embs_to_use = wordembs(bert_voc_indices_to_use_tensor).detach().numpy()\n",
    "bert_words_to_plot = bertwords[bert_voc_indices_to_plot]\n",
    "\n",
    "\n",
    "print(len(bert_voc_indices_to_plot))\n",
    "print(len(bert_voc_indices_to_use))"
   ]
  },
  {
   "cell_type": "markdown",
   "metadata": {},
   "source": [
    "That is to say, 10000 words will be used to compute the t-SNE data, but only 4000 of them will be plotted. We're ready to run the t-SNE projection."
   ]
  },
  {
   "cell_type": "code",
   "execution_count": 7,
   "metadata": {},
   "outputs": [
    {
     "data": {
      "text/html": [
       "\n",
       "  <style>\n",
       "    pre {\n",
       "      white-space: pre-wrap;\n",
       "    }\n",
       "  </style>\n",
       "  "
      ],
      "text/plain": [
       "<IPython.core.display.HTML object>"
      ]
     },
     "metadata": {},
     "output_type": "display_data"
    },
    {
     "name": "stdout",
     "output_type": "stream",
     "text": [
      "[t-SNE] Computing 91 nearest neighbors...\n",
      "[t-SNE] Indexed 10000 samples in 0.003s...\n",
      "[t-SNE] Computed neighbors for 10000 samples in 1.369s...\n",
      "[t-SNE] Computed conditional probabilities for sample 1000 / 10000\n",
      "[t-SNE] Computed conditional probabilities for sample 2000 / 10000\n",
      "[t-SNE] Computed conditional probabilities for sample 3000 / 10000\n",
      "[t-SNE] Computed conditional probabilities for sample 4000 / 10000\n",
      "[t-SNE] Computed conditional probabilities for sample 5000 / 10000\n",
      "[t-SNE] Computed conditional probabilities for sample 6000 / 10000\n",
      "[t-SNE] Computed conditional probabilities for sample 7000 / 10000\n",
      "[t-SNE] Computed conditional probabilities for sample 8000 / 10000\n",
      "[t-SNE] Computed conditional probabilities for sample 9000 / 10000\n",
      "[t-SNE] Computed conditional probabilities for sample 10000 / 10000\n",
      "[t-SNE] Mean sigma: 0.267747\n",
      "[t-SNE] Computed conditional probabilities in 0.191s\n",
      "[t-SNE] Iteration 50: error = 97.8543091, gradient norm = 0.0073397 (50 iterations in 0.603s)\n",
      "[t-SNE] Iteration 100: error = 96.0424423, gradient norm = 0.0002499 (50 iterations in 0.598s)\n",
      "[t-SNE] Iteration 150: error = 96.0277328, gradient norm = 0.0002313 (50 iterations in 0.575s)\n",
      "[t-SNE] Iteration 200: error = 96.0223083, gradient norm = 0.0004289 (50 iterations in 0.589s)\n",
      "[t-SNE] Iteration 250: error = 95.9962158, gradient norm = 0.0003859 (50 iterations in 0.607s)\n",
      "[t-SNE] KL divergence after 250 iterations with early exaggeration: 95.996216\n",
      "[t-SNE] Iteration 300: error = 3.7067070, gradient norm = 0.0118384 (50 iterations in 0.547s)\n",
      "[t-SNE] Iteration 350: error = 3.2112553, gradient norm = 0.0108155 (50 iterations in 0.538s)\n",
      "[t-SNE] Iteration 400: error = 2.9605689, gradient norm = 0.0101543 (50 iterations in 0.546s)\n",
      "[t-SNE] Iteration 450: error = 2.7994153, gradient norm = 0.0097193 (50 iterations in 0.553s)\n",
      "[t-SNE] Iteration 500: error = 2.6870573, gradient norm = 0.0092254 (50 iterations in 0.558s)\n",
      "[t-SNE] Iteration 550: error = 2.6035261, gradient norm = 0.0087954 (50 iterations in 0.562s)\n",
      "[t-SNE] Iteration 600: error = 2.5405591, gradient norm = 0.0080966 (50 iterations in 0.563s)\n",
      "[t-SNE] Iteration 650: error = 2.4922242, gradient norm = 0.0074771 (50 iterations in 0.566s)\n",
      "[t-SNE] Iteration 700: error = 2.4540975, gradient norm = 0.0068921 (50 iterations in 0.567s)\n",
      "[t-SNE] Iteration 750: error = 2.4235065, gradient norm = 0.0064074 (50 iterations in 0.568s)\n",
      "[t-SNE] Iteration 800: error = 2.3981874, gradient norm = 0.0059385 (50 iterations in 0.567s)\n",
      "[t-SNE] Iteration 850: error = 2.3772619, gradient norm = 0.0054893 (50 iterations in 0.568s)\n",
      "[t-SNE] Iteration 900: error = 2.3599722, gradient norm = 0.0050429 (50 iterations in 0.569s)\n",
      "[t-SNE] Iteration 950: error = 2.3454602, gradient norm = 0.0046707 (50 iterations in 0.573s)\n",
      "[t-SNE] Iteration 1000: error = 2.3329506, gradient norm = 0.0043527 (50 iterations in 0.593s)\n",
      "[t-SNE] Iteration 1050: error = 2.3223422, gradient norm = 0.0040790 (50 iterations in 0.573s)\n",
      "[t-SNE] Iteration 1100: error = 2.3133943, gradient norm = 0.0037159 (50 iterations in 0.567s)\n",
      "[t-SNE] Iteration 1150: error = 2.3058209, gradient norm = 0.0033694 (50 iterations in 0.568s)\n",
      "[t-SNE] Iteration 1200: error = 2.2988780, gradient norm = 0.0032914 (50 iterations in 0.568s)\n",
      "[t-SNE] Iteration 1250: error = 2.2925093, gradient norm = 0.0030528 (50 iterations in 0.569s)\n",
      "[t-SNE] Iteration 1300: error = 2.2868729, gradient norm = 0.0029235 (50 iterations in 0.568s)\n",
      "[t-SNE] Iteration 1350: error = 2.2817400, gradient norm = 0.0027778 (50 iterations in 0.569s)\n",
      "[t-SNE] Iteration 1400: error = 2.2773068, gradient norm = 0.0024960 (50 iterations in 0.578s)\n",
      "[t-SNE] Iteration 1450: error = 2.2732463, gradient norm = 0.0024149 (50 iterations in 0.571s)\n",
      "[t-SNE] Iteration 1500: error = 2.2694182, gradient norm = 0.0023663 (50 iterations in 0.567s)\n",
      "[t-SNE] Iteration 1550: error = 2.2658043, gradient norm = 0.0022566 (50 iterations in 0.567s)\n",
      "[t-SNE] Iteration 1600: error = 2.2626219, gradient norm = 0.0020880 (50 iterations in 0.567s)\n",
      "[t-SNE] Iteration 1650: error = 2.2599740, gradient norm = 0.0016941 (50 iterations in 0.565s)\n",
      "[t-SNE] Iteration 1700: error = 2.2579458, gradient norm = 0.0014244 (50 iterations in 0.566s)\n",
      "[t-SNE] Iteration 1750: error = 2.2562373, gradient norm = 0.0013624 (50 iterations in 0.565s)\n",
      "[t-SNE] Iteration 1800: error = 2.2544727, gradient norm = 0.0014081 (50 iterations in 0.565s)\n",
      "[t-SNE] Iteration 1850: error = 2.2526369, gradient norm = 0.0013036 (50 iterations in 0.569s)\n",
      "[t-SNE] Iteration 1900: error = 2.2511683, gradient norm = 0.0011377 (50 iterations in 0.568s)\n",
      "[t-SNE] Iteration 1950: error = 2.2499149, gradient norm = 0.0010830 (50 iterations in 0.566s)\n",
      "[t-SNE] Iteration 2000: error = 2.2485285, gradient norm = 0.0011943 (50 iterations in 0.565s)\n",
      "[t-SNE] Iteration 2050: error = 2.2470179, gradient norm = 0.0012328 (50 iterations in 0.566s)\n",
      "[t-SNE] Iteration 2100: error = 2.2454760, gradient norm = 0.0013086 (50 iterations in 0.564s)\n",
      "[t-SNE] Iteration 2150: error = 2.2439137, gradient norm = 0.0013735 (50 iterations in 0.565s)\n",
      "[t-SNE] Iteration 2200: error = 2.2423830, gradient norm = 0.0012450 (50 iterations in 0.564s)\n",
      "[t-SNE] Iteration 2250: error = 2.2410057, gradient norm = 0.0012149 (50 iterations in 0.565s)\n",
      "[t-SNE] Iteration 2300: error = 2.2397578, gradient norm = 0.0011908 (50 iterations in 0.567s)\n",
      "[t-SNE] Iteration 2350: error = 2.2386532, gradient norm = 0.0010523 (50 iterations in 0.566s)\n",
      "[t-SNE] Iteration 2400: error = 2.2375569, gradient norm = 0.0010663 (50 iterations in 0.562s)\n",
      "[t-SNE] Iteration 2450: error = 2.2365170, gradient norm = 0.0009956 (50 iterations in 0.562s)\n",
      "[t-SNE] Iteration 2500: error = 2.2355249, gradient norm = 0.0010054 (50 iterations in 0.560s)\n",
      "[t-SNE] KL divergence after 2500 iterations: 2.235525\n"
     ]
    }
   ],
   "source": [
    "# Run t-SNE on the BERT vocabulary embeddings we selected:\n",
    "mytsne_words = TSNE(n_components=2,early_exaggeration=12,verbose=2,metric='cosine',init='pca',n_iter=2500)\n",
    "bert_word_embs_to_use_tsne = mytsne_words.fit_transform(bert_word_embs_to_use)"
   ]
  },
  {
   "cell_type": "code",
   "execution_count": 10,
   "metadata": {},
   "outputs": [
    {
     "data": {
      "text/html": [
       "\n",
       "  <style>\n",
       "    pre {\n",
       "      white-space: pre-wrap;\n",
       "    }\n",
       "  </style>\n",
       "  "
      ],
      "text/plain": [
       "<IPython.core.display.HTML object>"
      ]
     },
     "metadata": {},
     "output_type": "display_data"
    },
    {
     "name": "stdout",
     "output_type": "stream",
     "text": [
      "-37.83607 -43.85365\n",
      "-33.93866 -34.97797\n",
      "-27.601797 -26.877579\n",
      "-26.30496 -25.920177\n",
      "-36.81039 -41.027893\n",
      "-39.91933 -33.008156\n",
      "-28.432592 -47.043865\n",
      "-41.897068 -32.832333\n",
      "-37.221386 -30.209543\n",
      "-25.449034 -42.669342\n",
      "-35.85816 -32.519527\n",
      "-37.587475 -43.028637\n",
      "-25.41901 -42.70267\n",
      "-36.098637 -35.39466\n",
      "-30.813568 -27.778149\n",
      "-36.960392 -29.558401\n",
      "-35.77053 -29.326931\n",
      "-36.0878 -35.376377\n",
      "-34.592037 -38.480694\n",
      "-43.543327 -44.542786\n",
      "-30.463339 -30.815994\n"
     ]
    },
    {
     "data": {
      "text/plain": [
       "<function matplotlib.pyplot.show(close=None, block=None)>"
      ]
     },
     "execution_count": 10,
     "metadata": {},
     "output_type": "execute_result"
    },
    {
     "data": {
      "image/png": "[encoded data removed]",
      "text/plain": [
       "<Figure size 1000x1000 with 1 Axes>"
      ]
     },
     "metadata": {},
     "output_type": "display_data"
    }
   ],
   "source": [
    "# Plot the transformed BERT vocabulary embeddings:\n",
    "fig = plt.figure(figsize = (10,10))\n",
    "alltexts = list()\n",
    "for i, txt in enumerate(bert_words_to_plot):\n",
    "    x = bert_word_embs_to_use_tsne[i,0]\n",
    "    y = bert_word_embs_to_use_tsne[i,1]\n",
    "    \n",
    "    if -45 < x and x < -25 and -50 < y and y < -25:\n",
    "        print(x,y)\n",
    "        plt.scatter(bert_word_embs_to_use_tsne[i,0], bert_word_embs_to_use_tsne[i,1], s=0)\n",
    "        currtext = plt.text(bert_word_embs_to_use_tsne[i,0], bert_word_embs_to_use_tsne[i,1], txt, family='sans-serif')\n",
    "        alltexts.append(currtext)\n",
    "    \n",
    "# Save the plot before adjusting.\n",
    "plt.savefig('viz-bert-voc-tsne10k-viz4k-noadj.pdf', format='pdf')\n",
    "\n",
    "plt.show"
   ]
  },
  {
   "cell_type": "markdown",
   "metadata": {},
   "source": [
    "Here's are some close-ups of this projection. The first one has clusters of verbs with similar meanings.\n",
    "\n",
    "  <img src=\"Figures/viz-bert-voc-verbs.png\" align=\"center\" width=800/> \n",
    "\n",
    "Next, we see some sub-word clusters, containing the \"##\" tag used by BERT's WordPiece tokenization scheme. This cluster consists of English suffixes.\n",
    "\n",
    "  <img src=\"Figures/viz-bert-voc-suffixes.png\" align=\"center\" width=800/> \n",
    "\n",
    "Here is what appears to be a cluster of suffixes of jurisdiction names:\n",
    "\n",
    "  <img src=\"Figures/viz-bert-voc-entities.png\" align=\"center\" width=800/> \n",
    "\n"
   ]
  },
  {
   "cell_type": "markdown",
   "metadata": {},
   "source": [
    "### Homework\n",
    "\n",
    "1. **Tokenization** \n",
    "\n",
    "Write a generic Python tokenizer, which takes a set of text lines and tabulates the different words (that is, the tokens will be simply English words), keeping track of the frequency of each word.  Use the guidance in the accompanying notebook, 'Homework_1.ipynb'.\n",
    "\n",
    "2. **Embedding**\n",
    "\n",
    "Modify the embedding visualization code above to zoom in on various regions of the projections, and identify at least one interesting cluster of tokens."
   ]
  }
 ],
 "metadata": {
  "kernelspec": {
   "display_name": "datascience/conda-2023-01-10",
   "language": "python",
   "name": "conda-2023-01-10"
  },
  "language_info": {
   "codemirror_mode": {
    "name": "ipython",
    "version": 3
   },
   "file_extension": ".py",
   "mimetype": "text/x-python",
   "name": "python",
   "nbconvert_exporter": "python",
   "pygments_lexer": "ipython3",
   "version": "3.10.9"
  }
 },
 "nbformat": 4,
 "nbformat_minor": 4
}
