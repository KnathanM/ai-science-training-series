{
 "cells": [
  {
   "cell_type": "markdown",
   "metadata": {},
   "source": [
    "## 2. Embedding\n",
    "First I modified the embedding visualization code to zoom in on an interesting cluster of tokens, shown below. Religious terms got grouped together."
   ]
  },
  {
   "cell_type": "code",
   "execution_count": 1,
   "metadata": {},
   "outputs": [
    {
     "name": "stderr",
     "output_type": "stream",
     "text": [
      "2024-03-29 16:29:39.388570: I tensorflow/core/platform/cpu_feature_guard.cc:193] This TensorFlow binary is optimized with oneAPI Deep Neural Network Library (oneDNN) to use the following CPU instructions in performance-critical operations:  SSE3 SSE4.1 SSE4.2 AVX AVX2 FMA\n",
      "To enable them in other operations, rebuild TensorFlow with the appropriate compiler flags.\n",
      "/soft/datascience/conda/2023-01-10/mconda3/lib/python3.10/site-packages/h5py/__init__.py:36: UserWarning: h5py is running against HDF5 1.12.2 when it was built against 1.12.1, this may cause problems\n",
      "  _warn((\"h5py is running against HDF5 {0} when it was built against {1}, \"\n",
      "Some weights of the model checkpoint at bert-large-uncased-whole-word-masking were not used when initializing BertModel: ['cls.seq_relationship.weight', 'cls.predictions.transform.LayerNorm.weight', 'cls.predictions.transform.dense.weight', 'cls.predictions.bias', 'cls.predictions.transform.LayerNorm.bias', 'cls.seq_relationship.bias', 'cls.predictions.transform.dense.bias']\n",
      "- This IS expected if you are initializing BertModel from the checkpoint of a model trained on another task or with another architecture (e.g. initializing a BertForSequenceClassification model from a BertForPreTraining model).\n",
      "- This IS NOT expected if you are initializing BertModel from the checkpoint of a model that you expect to be exactly identical (initializing a BertForSequenceClassification model from a BertForSequenceClassification model).\n"
     ]
    },
    {
     "name": "stdout",
     "output_type": "stream",
     "text": [
      "The vocabulary size is:  30522\n"
     ]
    }
   ],
   "source": [
    "%matplotlib inline\n",
    "import torch\n",
    "import numpy as np\n",
    "import matplotlib.pyplot as plt\n",
    "from sklearn.manifold import TSNE\n",
    "from transformers import BertTokenizer, BertModel, BertForMaskedLM\n",
    "import sys\n",
    "np.set_printoptions(threshold=sys.maxsize)\n",
    "plt.rcParams['figure.figsize'] = [100, 60]\n",
    "\n",
    "model = BertModel.from_pretrained('bert-large-uncased-whole-word-masking')\n",
    "model.eval()\n",
    "tokenizer = BertTokenizer.from_pretrained('bert-large-uncased-whole-word-masking')\n",
    "\n",
    "tokenizer.save_vocabulary(save_directory='.')\n",
    "\n",
    "print(\"The vocabulary size is: \", model.config.vocab_size) "
   ]
  },
  {
   "cell_type": "code",
   "execution_count": 2,
   "metadata": {},
   "outputs": [
    {
     "name": "stdout",
     "output_type": "stream",
     "text": [
      "(30522, 1024)\n"
     ]
    }
   ],
   "source": [
    "wordembs = model.get_input_embeddings()\n",
    "allinds = np.arange(0,model.config.vocab_size,1)\n",
    "inputinds = torch.LongTensor(allinds)\n",
    "bertwordembs = wordembs(inputinds).detach().numpy()\n",
    "print(bertwordembs.shape)"
   ]
  },
  {
   "cell_type": "code",
   "execution_count": 5,
   "metadata": {},
   "outputs": [
    {
     "data": {
      "text/plain": [
       "array([[-0.02419428, -0.00759981,  0.00445366],\n",
       "       [-0.02851291, -0.05074956, -0.01274622],\n",
       "       [-0.01905373, -0.05421471, -0.00300475]], dtype=float32)"
      ]
     },
     "execution_count": 5,
     "metadata": {},
     "output_type": "execute_result"
    }
   ],
   "source": [
    "bertwordembs[0:3,0:3]"
   ]
  },
  {
   "cell_type": "code",
   "execution_count": 6,
   "metadata": {},
   "outputs": [
    {
     "name": "stdout",
     "output_type": "stream",
     "text": [
      "4000\n",
      "10000\n"
     ]
    }
   ],
   "source": [
    "filename = \"vocab.txt\"\n",
    "with open(filename,'r') as f:\n",
    "    bertwords = np.array([])\n",
    "    for line in f:\n",
    "        bertwords = np.append(bertwords, line.rstrip())\n",
    "\n",
    "# Determine vocabulary to use for t-SNE/visualization. The indices are hard-coded based partially on inspection:\n",
    "bert_char_indices_to_use = np.arange(999, 1063, 1)\n",
    "bert_voc_indices_to_plot = np.append(bert_char_indices_to_use, np.arange(1996, 5932, 1))\n",
    "bert_voc_indices_to_use = np.append(bert_char_indices_to_use, np.arange(1996, 11932, 1))\n",
    "\n",
    "bert_voc_indices_to_use_tensor = torch.LongTensor(bert_voc_indices_to_use)\n",
    "bert_word_embs_to_use = wordembs(bert_voc_indices_to_use_tensor).detach().numpy()\n",
    "bert_words_to_plot = bertwords[bert_voc_indices_to_plot]\n",
    "\n",
    "print(len(bert_voc_indices_to_plot))\n",
    "print(len(bert_voc_indices_to_use))"
   ]
  },
  {
   "cell_type": "code",
   "execution_count": 7,
   "metadata": {
    "collapsed": true,
    "jupyter": {
     "outputs_hidden": true
    },
    "tags": []
   },
   "outputs": [
    {
     "name": "stdout",
     "output_type": "stream",
     "text": [
      "[t-SNE] Computing 91 nearest neighbors...\n",
      "[t-SNE] Indexed 10000 samples in 0.002s...\n",
      "[t-SNE] Computed neighbors for 10000 samples in 1.404s...\n",
      "[t-SNE] Computed conditional probabilities for sample 1000 / 10000\n",
      "[t-SNE] Computed conditional probabilities for sample 2000 / 10000\n",
      "[t-SNE] Computed conditional probabilities for sample 3000 / 10000\n",
      "[t-SNE] Computed conditional probabilities for sample 4000 / 10000\n",
      "[t-SNE] Computed conditional probabilities for sample 5000 / 10000\n",
      "[t-SNE] Computed conditional probabilities for sample 6000 / 10000\n",
      "[t-SNE] Computed conditional probabilities for sample 7000 / 10000\n",
      "[t-SNE] Computed conditional probabilities for sample 8000 / 10000\n",
      "[t-SNE] Computed conditional probabilities for sample 9000 / 10000\n",
      "[t-SNE] Computed conditional probabilities for sample 10000 / 10000\n",
      "[t-SNE] Mean sigma: 0.267747\n",
      "[t-SNE] Computed conditional probabilities in 0.198s\n",
      "[t-SNE] Iteration 50: error = 97.8549042, gradient norm = 0.0075994 (50 iterations in 0.603s)\n",
      "[t-SNE] Iteration 100: error = 96.0423965, gradient norm = 0.0002283 (50 iterations in 0.568s)\n",
      "[t-SNE] Iteration 150: error = 96.0276108, gradient norm = 0.0002364 (50 iterations in 0.563s)\n",
      "[t-SNE] Iteration 200: error = 96.0225677, gradient norm = 0.0004307 (50 iterations in 0.576s)\n",
      "[t-SNE] Iteration 250: error = 95.9963913, gradient norm = 0.0004249 (50 iterations in 0.594s)\n",
      "[t-SNE] KL divergence after 250 iterations with early exaggeration: 95.996391\n",
      "[t-SNE] Iteration 300: error = 3.7070448, gradient norm = 0.0118474 (50 iterations in 0.534s)\n",
      "[t-SNE] Iteration 350: error = 3.2112935, gradient norm = 0.0108254 (50 iterations in 0.525s)\n",
      "[t-SNE] Iteration 400: error = 2.9609003, gradient norm = 0.0101265 (50 iterations in 0.533s)\n",
      "[t-SNE] Iteration 450: error = 2.8004768, gradient norm = 0.0096958 (50 iterations in 0.539s)\n",
      "[t-SNE] Iteration 500: error = 2.6873584, gradient norm = 0.0092775 (50 iterations in 0.543s)\n",
      "[t-SNE] Iteration 550: error = 2.6036193, gradient norm = 0.0087878 (50 iterations in 0.548s)\n",
      "[t-SNE] Iteration 600: error = 2.5406387, gradient norm = 0.0080769 (50 iterations in 0.552s)\n",
      "[t-SNE] Iteration 650: error = 2.4922080, gradient norm = 0.0075309 (50 iterations in 0.552s)\n",
      "[t-SNE] Iteration 700: error = 2.4539368, gradient norm = 0.0069003 (50 iterations in 0.555s)\n",
      "[t-SNE] Iteration 750: error = 2.4235432, gradient norm = 0.0063516 (50 iterations in 0.557s)\n",
      "[t-SNE] Iteration 800: error = 2.3984895, gradient norm = 0.0059754 (50 iterations in 0.557s)\n",
      "[t-SNE] Iteration 850: error = 2.3776057, gradient norm = 0.0055468 (50 iterations in 0.557s)\n",
      "[t-SNE] Iteration 900: error = 2.3603063, gradient norm = 0.0050870 (50 iterations in 0.555s)\n",
      "[t-SNE] Iteration 950: error = 2.3456767, gradient norm = 0.0046778 (50 iterations in 0.558s)\n",
      "[t-SNE] Iteration 1000: error = 2.3334174, gradient norm = 0.0042248 (50 iterations in 0.561s)\n",
      "[t-SNE] Iteration 1050: error = 2.3232598, gradient norm = 0.0039404 (50 iterations in 0.567s)\n",
      "[t-SNE] Iteration 1100: error = 2.3143189, gradient norm = 0.0037075 (50 iterations in 0.572s)\n",
      "[t-SNE] Iteration 1150: error = 2.3064551, gradient norm = 0.0034663 (50 iterations in 0.560s)\n",
      "[t-SNE] Iteration 1200: error = 2.2994049, gradient norm = 0.0032261 (50 iterations in 0.559s)\n",
      "[t-SNE] Iteration 1250: error = 2.2931495, gradient norm = 0.0030769 (50 iterations in 0.556s)\n",
      "[t-SNE] Iteration 1300: error = 2.2874587, gradient norm = 0.0029459 (50 iterations in 0.559s)\n",
      "[t-SNE] Iteration 1350: error = 2.2824137, gradient norm = 0.0026871 (50 iterations in 0.559s)\n",
      "[t-SNE] Iteration 1400: error = 2.2779763, gradient norm = 0.0025456 (50 iterations in 0.559s)\n",
      "[t-SNE] Iteration 1450: error = 2.2739716, gradient norm = 0.0023400 (50 iterations in 0.558s)\n",
      "[t-SNE] Iteration 1500: error = 2.2704346, gradient norm = 0.0021741 (50 iterations in 0.559s)\n",
      "[t-SNE] Iteration 1550: error = 2.2671847, gradient norm = 0.0021331 (50 iterations in 0.558s)\n",
      "[t-SNE] Iteration 1600: error = 2.2641063, gradient norm = 0.0019963 (50 iterations in 0.554s)\n",
      "[t-SNE] Iteration 1650: error = 2.2612495, gradient norm = 0.0019207 (50 iterations in 0.558s)\n",
      "[t-SNE] Iteration 1700: error = 2.2586126, gradient norm = 0.0018405 (50 iterations in 0.556s)\n",
      "[t-SNE] Iteration 1750: error = 2.2561295, gradient norm = 0.0018839 (50 iterations in 0.559s)\n",
      "[t-SNE] Iteration 1800: error = 2.2537498, gradient norm = 0.0017873 (50 iterations in 0.556s)\n",
      "[t-SNE] Iteration 1850: error = 2.2515423, gradient norm = 0.0017032 (50 iterations in 0.556s)\n",
      "[t-SNE] Iteration 1900: error = 2.2494483, gradient norm = 0.0016107 (50 iterations in 0.557s)\n",
      "[t-SNE] Iteration 1950: error = 2.2475290, gradient norm = 0.0015373 (50 iterations in 0.557s)\n",
      "[t-SNE] Iteration 2000: error = 2.2457879, gradient norm = 0.0014574 (50 iterations in 0.557s)\n",
      "[t-SNE] Iteration 2050: error = 2.2441118, gradient norm = 0.0014524 (50 iterations in 0.556s)\n",
      "[t-SNE] Iteration 2100: error = 2.2425373, gradient norm = 0.0013557 (50 iterations in 0.555s)\n",
      "[t-SNE] Iteration 2150: error = 2.2410917, gradient norm = 0.0012997 (50 iterations in 0.556s)\n",
      "[t-SNE] Iteration 2200: error = 2.2397707, gradient norm = 0.0012168 (50 iterations in 0.554s)\n",
      "[t-SNE] Iteration 2250: error = 2.2386076, gradient norm = 0.0011149 (50 iterations in 0.555s)\n",
      "[t-SNE] Iteration 2300: error = 2.2375591, gradient norm = 0.0010267 (50 iterations in 0.553s)\n",
      "[t-SNE] Iteration 2350: error = 2.2365935, gradient norm = 0.0009689 (50 iterations in 0.554s)\n",
      "[t-SNE] Iteration 2400: error = 2.2356508, gradient norm = 0.0009691 (50 iterations in 0.554s)\n",
      "[t-SNE] Iteration 2450: error = 2.2348511, gradient norm = 0.0008070 (50 iterations in 0.555s)\n",
      "[t-SNE] Iteration 2500: error = 2.2340846, gradient norm = 0.0007926 (50 iterations in 0.553s)\n",
      "[t-SNE] KL divergence after 2500 iterations: 2.234085\n"
     ]
    }
   ],
   "source": [
    "# Run t-SNE on the BERT vocabulary embeddings we selected:\n",
    "mytsne_words = TSNE(n_components=2,early_exaggeration=12,verbose=2,metric='cosine',init='pca',n_iter=2500)\n",
    "bert_word_embs_to_use_tsne = mytsne_words.fit_transform(bert_word_embs_to_use)"
   ]
  },
  {
   "cell_type": "code",
   "execution_count": 9,
   "metadata": {},
   "outputs": [
    {
     "data": {
      "image/png": "[encoded data removed]",
      "text/plain": [
       "<Figure size 1000x1000 with 1 Axes>"
      ]
     },
     "metadata": {},
     "output_type": "display_data"
    }
   ],
   "source": [
    "# Plot the transformed BERT vocabulary embeddings:\n",
    "fig = plt.figure(figsize = (10,10))\n",
    "alltexts = []\n",
    "for i, txt in enumerate(bert_words_to_plot):\n",
    "    x = bert_word_embs_to_use_tsne[i,0]\n",
    "    y = bert_word_embs_to_use_tsne[i,1]\n",
    "    \n",
    "    if -45 < x and x < -25 and -50 < y and y < -25:\n",
    "        plt.scatter(bert_word_embs_to_use_tsne[i,0], bert_word_embs_to_use_tsne[i,1], s=0)\n",
    "        currtext = plt.text(bert_word_embs_to_use_tsne[i,0], bert_word_embs_to_use_tsne[i,1], txt, family='sans-serif')\n",
    "        alltexts.append(currtext)\n",
    "plt.show;"
   ]
  },
  {
   "cell_type": "markdown",
   "metadata": {
    "jupyter": {
     "source_hidden": true
    },
    "tags": []
   },
   "source": [
    "### Let's write an elementary tokenizer that uses words as tokens.\n",
    "\n",
    "We will use Mark Twain's _Life On The Mississippi_ as a test bed. The text is in the accompanying file 'Life_On_The_Mississippi.txt'\n",
    "\n",
    "Here's a not-terribly-good such tokenizer:"
   ]
  },
  {
   "cell_type": "markdown",
   "metadata": {},
   "source": [
    "## 1. Tokenization"
   ]
  },
  {
   "cell_type": "code",
   "execution_count": 1,
   "metadata": {},
   "outputs": [],
   "source": [
    "import string\n",
    "import re"
   ]
  },
  {
   "cell_type": "code",
   "execution_count": 4,
   "metadata": {},
   "outputs": [
    {
     "name": "stdout",
     "output_type": "stream",
     "text": [
      "('the', 9255)\n",
      "('project', 90)\n",
      "('gutenberg', 87)\n",
      "('ebook', 13)\n",
      "('of', 4532)\n",
      "('life', 89)\n",
      "('on', 947)\n",
      "('mississippi', 159)\n",
      "('this', 781)\n",
      "('is', 1148)\n"
     ]
    }
   ],
   "source": [
    "remove_punct = str.maketrans('', '', string.punctuation)\n",
    "\n",
    "wdict = {}\n",
    "with open('Life_On_The_Mississippi.txt', 'r') as L:\n",
    "    line = L.readline()\n",
    "    nlines = 1\n",
    "    while line:\n",
    "        line = line.translate(remove_punct)\n",
    "        line = re.sub(r'[^\\x00-\\x7F]', '', line)\n",
    "        line = line.lower()\n",
    "        words = line.split()\n",
    "        for word in words:\n",
    "            if wdict.get(word) is not None:\n",
    "                wdict[word] += 1\n",
    "            else:\n",
    "                wdict[word] = 1\n",
    "        line = L.readline()\n",
    "        nlines += 1\n",
    "\n",
    "nitem = 0 ; maxitems = 10\n",
    "for item in wdict.items():\n",
    "    nitem += 1\n",
    "    print(item)\n",
    "    if nitem == maxitems: break\n"
   ]
  },
  {
   "cell_type": "markdown",
   "metadata": {},
   "source": [
    "This is unsatisfactory for a few reasons:\n",
    "\n",
    "* There are non-ASCII (Unicode) characters that should be stripped (the so-called \"Byte-Order Mark\" or BOM \\ufeff at the beginning of the text);\n",
    "\n",
    "* There are punctuation marks, which we don't want to concern ourselves with;\n",
    "\n",
    "* The same word can appear capitalized, or lower-case, or with its initial letter upper-cased, whereas we want them all to be normalized to lower-case.\n",
    "\n",
    "Part 1 of this assignment: insert code in this loop to operate on the str variable 'line' so as to fix these problems before 'line' is split into words.\n",
    "\n",
    "A hint to one possible way to do this: use the 'punctuation' character definition in the Python 'string' module, the 'maketrans' and 'translate' methods of Python's str class, to eliminate punctuation, and the regular expression ('re') Python module to eliminate any Unicode---it is useful to know that the regular expression r'[^\\x00-x7f]' means \"any character not in the vanilla ASCII set.\n",
    "\n",
    "Part 2: Add code to sort the contents of wdict by word occurrence frequency.  What are the top 100 most frequent word tokens?  Adding up occurrence frequencies starting from the most frequent words, how many distinct words make up the top 90% of word occurrences in this \"corpus\"?\n",
    "\n",
    "For this part, the docs of Python's 'sorted' and of the helper 'itemgetter' from 'operator' reward study.\n",
    "\n",
    "Write your modified code in the cell below."
   ]
  },
  {
   "cell_type": "code",
   "execution_count": 7,
   "metadata": {},
   "outputs": [],
   "source": [
    "wdict_sorted = dict(sorted(wdict.items(), key=lambda item: item[1], reverse=True))"
   ]
  },
  {
   "cell_type": "code",
   "execution_count": 12,
   "metadata": {},
   "outputs": [
    {
     "name": "stdout",
     "output_type": "stream",
     "text": [
      "These are the top 100 frequent words\n",
      "('the', 9255)\n",
      "('and', 5892)\n",
      "('of', 4532)\n",
      "('a', 4053)\n",
      "('to', 3592)\n",
      "('in', 2593)\n",
      "('it', 2293)\n",
      "('i', 2205)\n",
      "('was', 2093)\n",
      "('that', 1724)\n",
      "('he', 1402)\n",
      "('is', 1148)\n",
      "('for', 1095)\n",
      "('with', 1081)\n",
      "('you', 1033)\n",
      "('his', 961)\n",
      "('had', 961)\n",
      "('but', 952)\n",
      "('on', 947)\n",
      "('as', 881)\n",
      "('this', 781)\n",
      "('they', 758)\n",
      "('at', 750)\n",
      "('not', 722)\n",
      "('all', 720)\n",
      "('by', 713)\n",
      "('one', 686)\n",
      "('there', 627)\n",
      "('were', 625)\n",
      "('be', 617)\n",
      "('my', 582)\n",
      "('or', 581)\n",
      "('from', 577)\n",
      "('have', 571)\n",
      "('out', 541)\n",
      "('so', 536)\n",
      "('up', 529)\n",
      "('him', 523)\n",
      "('we', 519)\n",
      "('me', 516)\n",
      "('when', 505)\n",
      "('would', 478)\n",
      "('which', 476)\n",
      "('river', 457)\n",
      "('an', 440)\n",
      "('them', 425)\n",
      "('no', 422)\n",
      "('then', 405)\n",
      "('said', 399)\n",
      "('are', 387)\n",
      "('if', 381)\n",
      "('their', 378)\n",
      "('now', 369)\n",
      "('about', 346)\n",
      "('time', 337)\n",
      "('been', 335)\n",
      "('down', 328)\n",
      "('its', 323)\n",
      "('could', 313)\n",
      "('has', 305)\n",
      "('will', 301)\n",
      "('into', 300)\n",
      "('what', 285)\n",
      "('her', 278)\n",
      "('two', 273)\n",
      "('do', 271)\n",
      "('other', 270)\n",
      "('some', 269)\n",
      "('man', 260)\n",
      "('new', 259)\n",
      "('any', 238)\n",
      "('got', 234)\n",
      "('these', 233)\n",
      "('she', 233)\n",
      "('who', 229)\n",
      "('more', 226)\n",
      "('water', 222)\n",
      "('did', 214)\n",
      "('before', 208)\n",
      "('over', 202)\n",
      "('way', 202)\n",
      "('hundred', 200)\n",
      "('upon', 200)\n",
      "('here', 199)\n",
      "('after', 195)\n",
      "('day', 193)\n",
      "('than', 192)\n",
      "('well', 191)\n",
      "('through', 191)\n",
      "('get', 190)\n",
      "('old', 186)\n",
      "('every', 186)\n",
      "('can', 185)\n",
      "('boat', 184)\n",
      "('went', 183)\n",
      "('never', 182)\n",
      "('good', 181)\n",
      "('years', 181)\n",
      "('see', 176)\n",
      "('know', 175)\n"
     ]
    }
   ],
   "source": [
    "print(\"These are the top 100 frequent words\")\n",
    "nitem = 0 ; maxitems = 100\n",
    "for item in wdict_sorted.items():\n",
    "    nitem += 1\n",
    "    print(item)\n",
    "    if nitem == maxitems: break"
   ]
  },
  {
   "cell_type": "code",
   "execution_count": 11,
   "metadata": {},
   "outputs": [
    {
     "name": "stdout",
     "output_type": "stream",
     "text": [
      "Total words\n"
     ]
    },
    {
     "data": {
      "text/plain": [
       "147420"
      ]
     },
     "execution_count": 11,
     "metadata": {},
     "output_type": "execute_result"
    }
   ],
   "source": [
    "print(\"Total words\")\n",
    "sum(wdict_sorted.values())"
   ]
  },
  {
   "cell_type": "code",
   "execution_count": 14,
   "metadata": {},
   "outputs": [
    {
     "name": "stdout",
     "output_type": "stream",
     "text": [
      "14462 make up 90% of words\n"
     ]
    }
   ],
   "source": [
    "running_total = 0\n",
    "n_words = 0\n",
    "for item in wdict_sorted.items():\n",
    "    running_total += item[1]\n",
    "    n_words += 1\n",
    "    if running_total > 147420:\n",
    "        break\n",
    "print(f'{n_words} make up 90% of words')"
   ]
  },
  {
   "cell_type": "code",
   "execution_count": null,
   "metadata": {},
   "outputs": [],
   "source": []
  }
 ],
 "metadata": {
  "kernelspec": {
   "display_name": "datascience/conda-2023-01-10",
   "language": "python",
   "name": "conda-2023-01-10"
  },
  "language_info": {
   "codemirror_mode": {
    "name": "ipython",
    "version": 3
   },
   "file_extension": ".py",
   "mimetype": "text/x-python",
   "name": "python",
   "nbconvert_exporter": "python",
   "pygments_lexer": "ipython3",
   "version": "3.10.9"
  }
 },
 "nbformat": 4,
 "nbformat_minor": 4
}
